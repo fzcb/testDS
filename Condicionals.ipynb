{
  "cells": [
    {
      "cell_type": "markdown",
      "metadata": {
        "id": "Ox5qRC7_8pul"
      },
      "source": [
        "# Condicionals"
      ]
    },
    {
      "cell_type": "markdown",
      "metadata": {
        "id": "f9Gbimzj8pun"
      },
      "source": [
        "#### treball\n",
        "Crear una funció anomenada \"treball\"\n",
        "que tignui un paràmetre: \"cansat\"\n",
        "que és un boolean.\n",
        "si cansat és True, treball hauria de ser\n",
        "False. Si cansat és False, treball hauria\n",
        "de ser True. (és a dir, tornar el contrari)"
      ]
    },
    {
      "cell_type": "code",
      "source": [
        "def treball(cansat):\n",
        "  if cansat:\n",
        "      return False\n",
        "  else: \n",
        "      return True\n",
        "\n",
        "treball(False)"
      ],
      "metadata": {
        "colab": {
          "base_uri": "https://localhost:8080/"
        },
        "id": "Fx0Sm3eY87Ss",
        "outputId": "30489ce6-0692-4eee-dd40-730d4837a238"
      },
      "execution_count": 15,
      "outputs": [
        {
          "output_type": "execute_result",
          "data": {
            "text/plain": [
              "True"
            ]
          },
          "metadata": {},
          "execution_count": 15
        }
      ]
    },
    {
      "cell_type": "markdown",
      "metadata": {
        "id": "2bv4pCEq8pun"
      },
      "source": [
        "#### es_par\n",
        "Create a function called \"is_even\"\n",
        "that takes one parameter: \"num\"\n",
        "which is a number. \n",
        "It returns True if the number is even\n",
        "and False if the number is odd. \n",
        "It should raise an error if not \n",
        "given a numer\n",
        "\n",
        "\n",
        "Crear una funció anomenada \"es_par\"\n",
        "que agafa un paràmetre: \"num\"\n",
        "que és un número.\n",
        "Retorna True si el nombre és par\n",
        "i Fals si el nombre és senar.\n",
        "Si el parametre no es un número, hauria de generar un error\n"
      ]
    },
    {
      "cell_type": "code",
      "source": [
        "num = 3\n",
        "def is_even(num):\n",
        "  if (type(num) != int) and (type(num) != float):\n",
        "      raise Exception(\"This is not a number\")\n",
        "  return num%2==0\n",
        "\n",
        "print(is_even(num))"
      ],
      "metadata": {
        "colab": {
          "base_uri": "https://localhost:8080/"
        },
        "id": "HDo0fvtuB4MJ",
        "outputId": "8e9876a0-5a29-485c-f1b0-ac2f7528cab7"
      },
      "execution_count": 60,
      "outputs": [
        {
          "output_type": "stream",
          "name": "stdout",
          "text": [
            "False\n"
          ]
        }
      ]
    },
    {
      "cell_type": "markdown",
      "metadata": {
        "id": "rcdd7KK88puo"
      },
      "source": [
        "----"
      ]
    },
    {
      "cell_type": "markdown",
      "metadata": {
        "id": "p2eBtWf68puo"
      },
      "source": [
        "#### coxe_en_semafor\n",
        "Crear una funció anomenada \"coxe_en_semafor\"\n",
        "Hauria de agafar un paràmetre: \"llum\"\n",
        "que dóna el color d'un semàfor.\n",
        "Si el color és \"vermell\", la funció hauria de tornar\n",
        "\"Stop\". Si el color és \"verd\", la funció\n",
        "hauria de tornar \"Go\". Si el color és \"groc\"\n",
        "la funció hauria de tornar \"Espera\". Si el color\n",
        "és una altra cosa, la funció hauria de donar\n",
        "una excepció."
      ]
    },
    {
      "cell_type": "markdown",
      "metadata": {
        "id": "10HqtVFD8puo"
      },
      "source": [
        "----"
      ]
    },
    {
      "cell_type": "code",
      "source": [
        "def coxe_en_semafor(llum):\n",
        "  if llum==(\"verd\"):\n",
        "    return \"Go\"\n",
        "  elif llum==(\"vermell\"):\n",
        "    return \"Stop\"\n",
        "  elif llum==(\"groc\"):\n",
        "    return \"Wait\"\n",
        "  else:\n",
        "      raise Exception(\"This is not a light\")\n",
        "\n",
        "coxe_en_semafor(\"groc\")"
      ],
      "metadata": {
        "colab": {
          "base_uri": "https://localhost:8080/",
          "height": 35
        },
        "id": "UmX5yoL3DNuY",
        "outputId": "ebf6c63c-5532-403e-c428-d9b050a47e86"
      },
      "execution_count": 18,
      "outputs": [
        {
          "output_type": "execute_result",
          "data": {
            "text/plain": [
              "'Wait'"
            ],
            "application/vnd.google.colaboratory.intrinsic+json": {
              "type": "string"
            }
          },
          "metadata": {},
          "execution_count": 18
        }
      ]
    },
    {
      "cell_type": "markdown",
      "metadata": {
        "id": "c-c13Jfx8pup"
      },
      "source": [
        "#### fa_fred\n",
        "Crea una funció anomenada \"fa_fred\"\n",
        "que agafa un paràmetre: \"temperatura\"\n",
        "que és un nombre.\n",
        "Si la temperatura és superior als 15 graus,\n",
        "hauria de tornar False,\n",
        "si és igual o inferior a 15 graus,\n",
        "hauria de tornar True,\n",
        "si la temperatura no és un nombre,\n",
        "hauria de donar una excepció que\n",
        "diu \"la temperatura ha de ser un nombre\"\n",
        "(Pista: heu de plantejar una excepció\n",
        "amb EXACTAMENT aquest missatge)"
      ]
    },
    {
      "cell_type": "code",
      "source": [
        "def fa_fred(temp):\n",
        "  if temp>15:\n",
        "    return False\n",
        "  elif temp <=15:\n",
        "    return True\n",
        "  else:\n",
        "    raise Exception (\"la temperatura ha de ser un nombre\")\n",
        "fa_fred(2)"
      ],
      "metadata": {
        "colab": {
          "base_uri": "https://localhost:8080/"
        },
        "id": "ZY7TOCMXLeTq",
        "outputId": "d179a942-35cd-4060-bb4d-94ea4c5a534b"
      },
      "execution_count": 73,
      "outputs": [
        {
          "output_type": "execute_result",
          "data": {
            "text/plain": [
              "True"
            ]
          },
          "metadata": {},
          "execution_count": 73
        }
      ]
    },
    {
      "cell_type": "markdown",
      "metadata": {
        "id": "tCBseCbo8pup"
      },
      "source": [
        "----"
      ]
    },
    {
      "cell_type": "markdown",
      "metadata": {
        "id": "OvvBqZ0v8pup"
      },
      "source": [
        "#### porta_jersei\n",
        "Crea una funció anomenada \"porta_jersei\"\n",
        "que tindrá dos paràmetres: \"temperatura\", \"friolera\"\n",
        "El primer és un nombre, el segon un boolean\n",
        "(que de vegades pot ser un None).\n",
        "Si la temperatura és superior a 15,\n",
        "hauria de tornar False,\n",
        "si és de 15 o menys,\n",
        "hauria de tornar True si friolera\n",
        "és True, False si friolera és False,\n",
        "i True si friolera és None.\n",
        "(En altres paraules, si no sabem si\n",
        "és friolera o no, hauríem d'actuar\n",
        "amb precaució i digueu-li que porti un jersei)\n",
        "(Pista: hauríeu d'utilitzar la funció fa_fred!)"
      ]
    },
    {
      "cell_type": "code",
      "source": [
        "def porta_jersei(temperatura, friolera):\n",
        "  if temperatura>15:\n",
        "    return False\n",
        "  elif temperatura <=15 and friolera == True:\n",
        "    return True\n",
        "  elif temperatura <=15 and friolera == False:\n",
        "    return False\n",
        "  elif temperatura <=15 and friolera == None:\n",
        "    return True\n",
        "\n",
        "porta_jersei(10, None)"
      ],
      "metadata": {
        "colab": {
          "base_uri": "https://localhost:8080/"
        },
        "id": "XjhFn8ZVVKvG",
        "outputId": "2c7795a2-d448-47b5-dcd9-285cbdd66cf3"
      },
      "execution_count": 7,
      "outputs": [
        {
          "output_type": "execute_result",
          "data": {
            "text/plain": [
              "True"
            ]
          },
          "metadata": {},
          "execution_count": 7
        }
      ]
    },
    {
      "cell_type": "markdown",
      "metadata": {
        "id": "UYfyxHed8puq"
      },
      "source": [
        "*El següent conjunt de casos és el que volem condicionar*\n",
        "\n",
        "- Temperatura>15, no importa què sigui friolera -> no et portis jersei, fa calor\n",
        "- Temperatura<15,friolera=True -> portar jersei\n",
        "- Temperatura <15,friolera=False -> No cal portar jersei\n",
        "- Temperatura<15,friolera=None -> siguem curosos i portem jersei"
      ]
    },
    {
      "cell_type": "markdown",
      "metadata": {
        "id": "zDWDZQan8puq"
      },
      "source": [
        "----"
      ]
    },
    {
      "cell_type": "markdown",
      "metadata": {
        "id": "BOp2Dgo38puq"
      },
      "source": [
        "#### igualtat\n",
        "Crea una funció anomenada \"igualtat\"\n",
        "que agafi tres paràmetres: \"x\", \"y\" i \"z\"\n",
        "hauria de retornar el següent:\n",
        "si x, y i z són tots iguals --> \"tots són iguals\"\n",
        "si només x i y són iguals --> \"x i y són iguals\"\n",
        "si només z i x són iguals --> \"x i z són iguals\"\n",
        "si només y i z són iguals --> \"y i z són iguals\"\n",
        "si res és igual --> \"res és igual\""
      ]
    },
    {
      "cell_type": "code",
      "source": [
        "def igualdad (x,y,z):\n",
        "  if (x==y and y==z):\n",
        "    return \"tots són iguals\"\n",
        "  elif (x==y):\n",
        "    return \"x i y són iguals\"\n",
        "  elif (z==x):\n",
        "    return \"z i x són iguals\"\n",
        "  elif (y==z):\n",
        "    return \"y i z són iguals\"\n",
        "  else:\n",
        "    return \"res és igual\"\n",
        "igualdad(3,2,4)"
      ],
      "metadata": {
        "colab": {
          "base_uri": "https://localhost:8080/",
          "height": 35
        },
        "id": "nYqTWEYNNyzt",
        "outputId": "ddca04ec-8e9d-4902-9df7-12e1bb9d8645"
      },
      "execution_count": 84,
      "outputs": [
        {
          "output_type": "execute_result",
          "data": {
            "text/plain": [
              "'res és igual'"
            ],
            "application/vnd.google.colaboratory.intrinsic+json": {
              "type": "string"
            }
          },
          "metadata": {},
          "execution_count": 84
        }
      ]
    },
    {
      "cell_type": "markdown",
      "metadata": {
        "id": "c4xm4rg48pur"
      },
      "source": [
        "----"
      ]
    },
    {
      "cell_type": "markdown",
      "metadata": {
        "id": "RQnVP-Dm8pur"
      },
      "source": [
        "#### conductor\n",
        "Escriu una funció per a la situació següent:\n",
        "Sofia pot conduir cotxes manuals i automàtics.\n",
        "Diego només sap conduir automàtics.\n",
        "Sofia prefereix conduir llargues distàncies (> 10 km).\n",
        "Diego prefereix conduir distàncies curtes.\n",
        "\n",
        "La funció s'ha d'anomenar \"conductor\"\n",
        "i hauria de agafar dos paràmetres: \"distancia\", \"es_manual\".\n",
        "El primer ha de ser un número, el segon ha de ser un\n",
        "boolean. La funció hauria de retornar un string, que és\n",
        "el nom de la persona que ha de conduir, \"Diego\" o \"Sofia\"."
      ]
    },
    {
      "cell_type": "code",
      "source": [
        "def conductor(distancia, es_manual):\n",
        "  if es_manual == True:\n",
        "    return \"Sofia\"\n",
        "  elif distancia <=10 and es_manual == False:\n",
        "    return \"Diego\"\n",
        "  elif distancia >10 and es_manual == False:\n",
        "    return \"Sofia\"\n",
        "\n",
        "conductor(1, False)"
      ],
      "metadata": {
        "colab": {
          "base_uri": "https://localhost:8080/",
          "height": 35
        },
        "id": "gWoqvRXvYcUm",
        "outputId": "985af289-6ec6-4717-873f-41480051b304"
      },
      "execution_count": 10,
      "outputs": [
        {
          "output_type": "execute_result",
          "data": {
            "text/plain": [
              "'Diego'"
            ],
            "application/vnd.google.colaboratory.intrinsic+json": {
              "type": "string"
            }
          },
          "metadata": {},
          "execution_count": 10
        }
      ]
    },
    {
      "cell_type": "markdown",
      "metadata": {
        "id": "QOLzI8-d8pur"
      },
      "source": [
        "*El següent conjunt de casos és el que volem condicionar*\n",
        "\n",
        "- si es_manual és True -> Sofia\n",
        "- si es_manual és False, distància > 10 -> Sofia\n",
        "- si es_manual és False, distància <= 10 -> Diego"
      ]
    }
  ],
  "metadata": {
    "kernelspec": {
      "display_name": "Python 3",
      "language": "python",
      "name": "python3"
    },
    "language_info": {
      "codemirror_mode": {
        "name": "ipython",
        "version": 3
      },
      "file_extension": ".py",
      "mimetype": "text/x-python",
      "name": "python",
      "nbconvert_exporter": "python",
      "pygments_lexer": "ipython3",
      "version": "3.7.6"
    },
    "colab": {
      "name": "Condicionals.ipynb",
      "provenance": [],
      "collapsed_sections": []
    }
  },
  "nbformat": 4,
  "nbformat_minor": 0
}