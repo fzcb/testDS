{
  "cells": [
    {
      "cell_type": "markdown",
      "metadata": {
        "id": "view-in-github",
        "colab_type": "text"
      },
      "source": [
        "<a href=\"https://colab.research.google.com/github/fzcb/testDS/blob/master/Variables_i_Funcions.ipynb\" target=\"_parent\"><img src=\"https://colab.research.google.com/assets/colab-badge.svg\" alt=\"Open In Colab\"/></a>"
      ]
    },
    {
      "cell_type": "code",
      "execution_count": null,
      "metadata": {
        "id": "TtOeSIAIcgAR"
      },
      "outputs": [],
      "source": [
        "# Exercici: variables i funcions"
      ]
    },
    {
      "cell_type": "markdown",
      "metadata": {
        "id": "5xG296ifcgAS"
      },
      "source": [
        "L'ús de print() imprimirà qualsevol cosa\n",
        "entre els paràntesis al teu termianl.\n",
        "Canvia la frase que s'imprimeix a continuació,\n",
        "deseu i, a continuació, executeu l'script per veure els vostres canvis.\n",
        "Després de confirmar que funciona, comenta-ho."
      ]
    },
    {
      "cell_type": "code",
      "execution_count": null,
      "metadata": {
        "scrolled": false,
        "id": "9QmbY9bLcgAT",
        "outputId": "8d6c408e-7425-4187-8d82-8ea8189e4568"
      },
      "outputs": [
        {
          "name": "stdout",
          "output_type": "stream",
          "text": [
            "bona tarda companyes!\n",
            "5\n"
          ]
        }
      ],
      "source": [
        "print('bona tarda companyes!')\n",
        "\n",
        "my_string = 5\n",
        "print(my_string)"
      ]
    },
    {
      "cell_type": "markdown",
      "metadata": {
        "id": "gLBqeqLjcgAU"
      },
      "source": [
        "## Variables"
      ]
    },
    {
      "cell_type": "markdown",
      "metadata": {
        "id": "LzcUFld-cgAU"
      },
      "source": [
        "\n",
        "#### 1)\n",
        "\n",
        "Utilitzant la línia print() de sota,\n",
        "a continuació, imprimiu el número 10, utilitzant els operadors\n",
        "(+) i (*).\n",
        "Multiplica i suma qualsevol combinació de nombres\n",
        "junts per obtenir el número 10.\n"
      ]
    },
    {
      "cell_type": "code",
      "execution_count": null,
      "metadata": {
        "id": "m25oGDPscgAV",
        "outputId": "f7d91bb8-fc3e-4cff-96b5-99f56c76cb3f"
      },
      "outputs": [
        {
          "name": "stdout",
          "output_type": "stream",
          "text": [
            "10\n"
          ]
        }
      ],
      "source": [
        "print(3*2+4)\n"
      ]
    },
    {
      "cell_type": "markdown",
      "metadata": {
        "id": "XaykScjDcgAV"
      },
      "source": [
        "#### 2)\n",
        "print s'utilitza sovint per com debugger.\n",
        "De fet, podeu afegir múltiples\n",
        "arguments dins del print (que són\n",
        "separats per una coma). Afegiu-ho tot\n",
        "a continuació per imprimir:\n",
        "\n",
        "\n",
        "3 + 4, \"hauria de ser igual a 7\"\n"
      ]
    },
    {
      "cell_type": "code",
      "execution_count": null,
      "metadata": {
        "id": "yI6iDE4KcgAV",
        "outputId": "76958756-712a-415f-86ee-e3126c9099b7"
      },
      "outputs": [
        {
          "name": "stdout",
          "output_type": "stream",
          "text": [
            "7 7\n",
            "7 hauria de ser igual a 7\n"
          ]
        }
      ],
      "source": [
        "print (3+4, 7)\n",
        "print (3 + 4,\"hauria de ser igual a 7\")"
      ]
    },
    {
      "cell_type": "markdown",
      "metadata": {
        "id": "RmCOZ-JdcgAW"
      },
      "source": [
        "#### 3)\n",
        "\n",
        "Afegiu dues strings juntes per\n",
        "imprimir el vostre nom i cognom!"
      ]
    },
    {
      "cell_type": "code",
      "execution_count": null,
      "metadata": {
        "id": "AK6oR_IxcgAW",
        "outputId": "b75e0c3e-1a5a-4093-d07e-ae4c7c35ee09"
      },
      "outputs": [
        {
          "name": "stdout",
          "output_type": "stream",
          "text": [
            "Fabrizio Cinti\n"
          ]
        }
      ],
      "source": [
        "print (\"Fabrizio\", \"Cinti\")"
      ]
    },
    {
      "cell_type": "markdown",
      "metadata": {
        "id": "1IsWafMtcgAX"
      },
      "source": [
        "#### 4)\n",
        "Using modulo to get the remainder of\n",
        "a number divided by 2 will tell you whether a\n",
        "number is even or odd. Try it below!\n",
        "\n"
      ]
    },
    {
      "cell_type": "code",
      "execution_count": null,
      "metadata": {
        "id": "5r-GVdsYcgAX",
        "outputId": "5c80f0f9-500e-4a1f-90df-66b04dfaedf3"
      },
      "outputs": [
        {
          "data": {
            "text/plain": [
              "0"
            ]
          },
          "execution_count": 32,
          "metadata": {},
          "output_type": "execute_result"
        }
      ],
      "source": [
        "22%2"
      ]
    },
    {
      "cell_type": "markdown",
      "metadata": {
        "id": "aoIdOKUEcgAX"
      },
      "source": [
        "\n",
        "#### 5)\n",
        "Canvieu la ubicació de la Mia reassignant la variable ubicacio_actual\n",
        "amb una nova string! Per fer-ho, tindreu\n",
        "que afegir una nova línia de codi (no n'elimineu cap linia\n",
        "de codi escrit). Nota: també hauràs de deixar de comentar\n",
        "la impressió per imprimir la ubicació."
      ]
    },
    {
      "cell_type": "code",
      "execution_count": null,
      "metadata": {
        "id": "jDpZAH0XcgAX",
        "outputId": "c751cfad-1172-4963-ad95-a52532ed1f45"
      },
      "outputs": [
        {
          "name": "stdout",
          "output_type": "stream",
          "text": [
            "home\n"
          ]
        }
      ],
      "source": [
        "nom = 'Mia'\n",
        "ubicacio_actual = 'school'\n",
        "ubicacio_actual = 'home'\n",
        "print (ubicacio_actual)"
      ]
    },
    {
      "cell_type": "markdown",
      "metadata": {
        "id": "YLJSyDNMcgAX"
      },
      "source": [
        "\n",
        "#### 6)\n",
        "Creeu variables perquè el missatge s'imprimeixi\n",
        "a la pantalla!\n"
      ]
    },
    {
      "cell_type": "code",
      "execution_count": null,
      "metadata": {
        "id": "Gw1m0mkqcgAX",
        "outputId": "927dd65c-e1ee-4eef-81ba-4ab09755064a"
      },
      "outputs": [
        {
          "name": "stdout",
          "output_type": "stream",
          "text": [
            "Mia va anar a la Boqueria a menjar peix\n"
          ]
        }
      ],
      "source": [
        "persona = 'Mia'\n",
        "place = 'Boqueria'\n",
        "food = \"peix\"\n",
        "print(persona, 'va anar a la', place, 'a menjar', food)"
      ]
    },
    {
      "cell_type": "markdown",
      "metadata": {
        "id": "_TcEsLzYcgAY"
      },
      "source": [
        "\n",
        "#### 7)\n",
        "Ara, reassigneu totes les variables anteriors de manera que\n",
        "s'imprimeix un missatge nou a la pantalla!\n"
      ]
    },
    {
      "cell_type": "code",
      "execution_count": null,
      "metadata": {
        "id": "7sjioXhFcgAY",
        "outputId": "45ec06d1-99cf-4cc6-b16e-2718584676a2"
      },
      "outputs": [
        {
          "name": "stdout",
          "output_type": "stream",
          "text": [
            "Fab va anar a la Clandestina a menjar heura\n"
          ]
        }
      ],
      "source": [
        "persona = 'Fab'\n",
        "place = 'Clandestina'\n",
        "food = \"heura\"\n",
        "print(persona, 'va anar a la', place, 'a menjar', food)"
      ]
    },
    {
      "cell_type": "markdown",
      "metadata": {
        "id": "WWBip92wcgAY"
      },
      "source": [
        "#### 8)\n",
        "Hi ha dues maneres d'augmentar\n",
        "nombre emmagatzemat a la variable 'compte'.\n",
        "Quina és la resposta per executar les 4 línies següents?\n",
        "Pista: cerca què fa += si no està clar!"
      ]
    },
    {
      "cell_type": "code",
      "execution_count": null,
      "metadata": {
        "id": "sc5Egx5VcgAY",
        "outputId": "94d11fe8-2337-4366-8165-406ef71ca1e3"
      },
      "outputs": [
        {
          "name": "stdout",
          "output_type": "stream",
          "text": [
            "1\n",
            "2\n",
            "4\n",
            "8\n"
          ]
        }
      ],
      "source": [
        "count = 0\n",
        "count = count + 1\n",
        "print(count)\n",
        "count += 1\n",
        "print(count)\n",
        "count += count\n",
        "print (count)\n",
        "count +=count\n",
        "print (count)"
      ]
    },
    {
      "cell_type": "markdown",
      "metadata": {
        "id": "uv0M7H1TcgAY"
      },
      "source": [
        "\n",
        "#### 9)\n",
        "Intercanvi de temps! Al següent codi, volem intercanviar\n",
        "els valors s'emmagatzemen tant a 'a' com a 'b'.\n",
        "Aquest codi escrit a continuació no funciona. Per dur a terme\n",
        "aquesta tasca, haureu de crear-ne una variable addicional\n",
        "(podeu anomenar-la 'temp') per emmagatzemar-la\n",
        "\"a\" o \"b\" mentre intercanvieu. Dibuixa-ho si\n",
        "no estàs segur!\n"
      ]
    },
    {
      "cell_type": "code",
      "execution_count": null,
      "metadata": {
        "id": "RnxMcASBcgAY"
      },
      "outputs": [],
      "source": [
        "a = 1\n",
        "b = 2"
      ]
    },
    {
      "cell_type": "code",
      "execution_count": null,
      "metadata": {
        "id": "94oZAT0dcgAY",
        "outputId": "6014d4f7-eba2-4325-da8e-0617cd40ff2d"
      },
      "outputs": [
        {
          "name": "stdout",
          "output_type": "stream",
          "text": [
            "ABANS > es: 1 - i b es:  2\n"
          ]
        }
      ],
      "source": [
        "print('ABANS > es:', a, '- i b es: ', b)\n"
      ]
    },
    {
      "cell_type": "code",
      "execution_count": null,
      "metadata": {
        "id": "zmZFs8RscgAZ",
        "outputId": "9de75de0-25ad-435a-d60d-dd1edfda0fff"
      },
      "outputs": [
        {
          "name": "stdout",
          "output_type": "stream",
          "text": [
            "2 1\n"
          ]
        }
      ],
      "source": [
        "t = a\n",
        "a = b\n",
        "b = t\n",
        "print (a,b)"
      ]
    },
    {
      "cell_type": "code",
      "execution_count": null,
      "metadata": {
        "id": "6l4XK_nWcgAZ",
        "outputId": "088da094-ed44-4281-b9e0-ee1383cee8ed"
      },
      "outputs": [
        {
          "name": "stdout",
          "output_type": "stream",
          "text": [
            "DESPRES > a: 2 ha de ser 2 - i b: 1 ha de ser 1\n"
          ]
        }
      ],
      "source": [
        "print('DESPRES > a:', a, 'ha de ser 2 - i b:', b, 'ha de ser 1')"
      ]
    },
    {
      "cell_type": "markdown",
      "metadata": {
        "id": "Fv6hcnOBcgAZ"
      },
      "source": [
        "#### 10)\n",
        "Què avaluarà això?\n",
        "Intenta fer que s'avaluï com a cert.\n",
        "Intenta fer-ho de diverses maneres!\n",
        "(suggeriment: proveu d'\"emetre\" el número\n",
        "a un string, o viceversa!)"
      ]
    },
    {
      "cell_type": "code",
      "execution_count": null,
      "metadata": {
        "id": "AYFJhxxNcgAZ",
        "outputId": "825df3ec-e800-4fbd-de88-55b45a7cd6ec"
      },
      "outputs": [
        {
          "name": "stdout",
          "output_type": "stream",
          "text": [
            "True should be True\n",
            "True should be True\n"
          ]
        }
      ],
      "source": [
        "print(str(3) == '3', 'should be True')\n",
        "print (3 == int(\"3\"), \"should be True\")\n"
      ]
    },
    {
      "cell_type": "markdown",
      "metadata": {
        "id": "jjpKjnSicgAZ"
      },
      "source": [
        "## Functions"
      ]
    },
    {
      "cell_type": "markdown",
      "metadata": {
        "id": "H3uaEFVqcgAZ"
      },
      "source": [
        "\n",
        "\n",
        "#### 1)\n",
        "Creeu una funció anomenada\n",
        "\"triple\" que agafa un\n",
        "paràmetre x i retorns\n",
        "el valor de x multiplicat\n",
        "per tres.\n"
      ]
    },
    {
      "cell_type": "code",
      "source": [
        "def triple (x):\n",
        "  return x*3\n",
        "triple(4)"
      ],
      "metadata": {
        "colab": {
          "base_uri": "https://localhost:8080/"
        },
        "id": "lRyWiRa-c1RN",
        "outputId": "6c83af43-66dd-44de-a9cd-25c928798f49"
      },
      "execution_count": 26,
      "outputs": [
        {
          "output_type": "execute_result",
          "data": {
            "text/plain": [
              "12"
            ]
          },
          "metadata": {},
          "execution_count": 26
        }
      ]
    },
    {
      "cell_type": "markdown",
      "metadata": {
        "id": "3fJVmN_rcgAZ"
      },
      "source": [
        "\n",
        "\n",
        "\n",
        "#### 2)\n",
        "Creeu una funció anomenada \"resta\" això\n",
        "agafa dos paràmetres i retorna el resultat de\n",
        "el segon valor restat del primer.\n"
      ]
    },
    {
      "cell_type": "code",
      "source": [
        "x = 10\n",
        "y = 2\n",
        "def resta(x,y):\n",
        "  return y-x\n",
        "print (resta (y,x))"
      ],
      "metadata": {
        "colab": {
          "base_uri": "https://localhost:8080/"
        },
        "id": "E3FQAgqsgkPU",
        "outputId": "a8f9e53d-6aa8-40f1-f3a7-52876bffbea7"
      },
      "execution_count": 33,
      "outputs": [
        {
          "output_type": "stream",
          "name": "stdout",
          "text": [
            "8\n"
          ]
        }
      ]
    },
    {
      "cell_type": "markdown",
      "metadata": {
        "id": "9TS1vG5UcgAZ"
      },
      "source": [
        "\n",
        "\n",
        "\n",
        "\n",
        "#### 3)\n",
        "Creeu una funció anomenada \"resta_segura\" que\n",
        "agafa dos paràmetres i retorna el resultat de\n",
        "el segon valor restat del primer.\n",
        "Si no es poden restar els valors, retorna None.\n"
      ]
    },
    {
      "cell_type": "code",
      "source": [
        "x = 10\n",
        "y = 2\n",
        "def resta_segura(a,b):\n",
        "  if (type(a) is int or type(a) is float) and (type(b) is int or type(b) is float):\n",
        "    return y-x\n",
        "resta_segura(x,y)\n",
        "print(resta_segura(x,y))"
      ],
      "metadata": {
        "colab": {
          "base_uri": "https://localhost:8080/"
        },
        "id": "dPWaERHDkCAY",
        "outputId": "73003365-bb47-4f77-b58d-80a8dd96c93c"
      },
      "execution_count": 46,
      "outputs": [
        {
          "output_type": "stream",
          "name": "stdout",
          "text": [
            "-8\n"
          ]
        }
      ]
    },
    {
      "cell_type": "markdown",
      "metadata": {
        "id": "-zVDQworcgAZ"
      },
      "source": [
        "#### 4)\n",
        "Create a function named \"greet_person\". It should\n",
        "accept a string as an argument and return that\n",
        "string as part of a longer sentence that says hello:\n",
        "i.e. \"Sophia\" --> \"Hello, Sophia!\"\n",
        "If the function is called with an argument that is\n",
        "not a string, it should return \"Please provide a name.\"\n",
        "i.e. 5 --> \"Please provide a name.\"\n",
        "\n",
        "Creeu una funció anomenada \"saluda_persona\". Hauria\n",
        "accepta una cadena com a argument i retorna-la\n",
        "cadena com a part d'una frase més llarga que diu hola:\n",
        "és a dir, \"Sophia\" --> \"Hola, Sophia!\"\n",
        "Si la funció es crida amb un argument que és\n",
        "no és una cadena, hauria de retornar \"Si us plau, proporcioneu un nom\".\n",
        "és a dir, 5 --> \"Si us plau, proporcioneu un nom\"."
      ]
    },
    {
      "cell_type": "code",
      "source": [
        "def greet_person (name):\n",
        "  if type(name) is not str:\n",
        "    return \"Please provide a name\"\n",
        "  return \"Hello \"+ name\n",
        "greet_person(\"Sophia\")"
      ],
      "metadata": {
        "colab": {
          "base_uri": "https://localhost:8080/",
          "height": 35
        },
        "id": "hSQWf6yqlzDA",
        "outputId": "2cff9f14-0e33-4e9b-d581-8feb03dff9e3"
      },
      "execution_count": 58,
      "outputs": [
        {
          "output_type": "execute_result",
          "data": {
            "text/plain": [
              "'Hello Sophia'"
            ],
            "application/vnd.google.colaboratory.intrinsic+json": {
              "type": "string"
            }
          },
          "metadata": {},
          "execution_count": 58
        }
      ]
    }
  ],
  "metadata": {
    "kernelspec": {
      "display_name": "Python 3 (ipykernel)",
      "language": "python",
      "name": "python3"
    },
    "language_info": {
      "codemirror_mode": {
        "name": "ipython",
        "version": 3
      },
      "file_extension": ".py",
      "mimetype": "text/x-python",
      "name": "python",
      "nbconvert_exporter": "python",
      "pygments_lexer": "ipython3",
      "version": "3.9.12"
    },
    "colab": {
      "name": "Variables i Funcions.ipynb",
      "provenance": [],
      "include_colab_link": true
    }
  },
  "nbformat": 4,
  "nbformat_minor": 0
}